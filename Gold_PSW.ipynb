{
 "cells": [
  {
   "cell_type": "code",
   "execution_count": 0,
   "metadata": {
    "application/vnd.databricks.v1+cell": {
     "cellMetadata": {},
     "inputWidgets": {},
     "nuid": "ee9bde3d-8adc-47c3-a34c-c7f279734af2",
     "showTitle": false,
     "tableResultSettingsMap": {},
     "title": ""
    }
   },
   "outputs": [],
   "source": [
    "from pyspark.sql.functions import col\n",
    "from pyspark.sql import Row\n",
    "from pyspark.sql import functions as F"
   ]
  },
  {
   "cell_type": "code",
   "execution_count": 0,
   "metadata": {
    "application/vnd.databricks.v1+cell": {
     "cellMetadata": {
      "byteLimit": 2048000,
      "rowLimit": 10000
     },
     "inputWidgets": {},
     "nuid": "17d22ccb-fecd-4246-ba43-2c68dfb492d8",
     "showTitle": false,
     "tableResultSettingsMap": {},
     "title": ""
    }
   },
   "outputs": [],
   "source": [
    "gold_df = spark.table(\"silver_table\")"
   ]
  },
  {
   "cell_type": "markdown",
   "metadata": {
    "application/vnd.databricks.v1+cell": {
     "cellMetadata": {},
     "inputWidgets": {},
     "nuid": "c41f3425-f8f0-406c-bf09-419abdafdf75",
     "showTitle": false,
     "tableResultSettingsMap": {},
     "title": ""
    }
   },
   "source": [
    "##Indicador para negocio: cidades que faltam ter cervejaria nos USA"
   ]
  },
  {
   "cell_type": "code",
   "execution_count": 0,
   "metadata": {
    "application/vnd.databricks.v1+cell": {
     "cellMetadata": {
      "byteLimit": 2048000,
      "rowLimit": 10000
     },
     "inputWidgets": {},
     "nuid": "f285e289-8c9c-48ad-8909-e6ab0d874541",
     "showTitle": false,
     "tableResultSettingsMap": {},
     "title": ""
    }
   },
   "outputs": [
    {
     "output_type": "display_data",
     "data": {
      "text/html": [
       "<style scoped>\n",
       "  .table-result-container {\n",
       "    max-height: 300px;\n",
       "    overflow: auto;\n",
       "  }\n",
       "  table, th, td {\n",
       "    border: 1px solid black;\n",
       "    border-collapse: collapse;\n",
       "  }\n",
       "  th, td {\n",
       "    padding: 5px;\n",
       "  }\n",
       "  th {\n",
       "    text-align: left;\n",
       "  }\n",
       "</style><div class='table-result-container'><table class='table-result'><thead style='background-color: white'><tr><th>cidade</th></tr></thead><tbody><tr><td>New York</td></tr><tr><td>Los Angeles</td></tr><tr><td>Chicago</td></tr><tr><td>Phoenix</td></tr><tr><td>Philadelphia</td></tr><tr><td>San Antonio</td></tr><tr><td>Dallas</td></tr><tr><td>San Jose</td></tr><tr><td>Jacksonville</td></tr><tr><td>Fort Worth</td></tr><tr><td>Columbus</td></tr><tr><td>Charlotte</td></tr><tr><td>San Francisco</td></tr><tr><td>Indianapolis</td></tr><tr><td>Seattle</td></tr><tr><td>Washington</td></tr><tr><td>Boston</td></tr><tr><td>El Paso</td></tr><tr><td>Nashville</td></tr><tr><td>Detroit</td></tr><tr><td>Oklahoma City</td></tr><tr><td>Las Vegas</td></tr><tr><td>Memphis</td></tr><tr><td>Baltimore</td></tr><tr><td>Albuquerque</td></tr><tr><td>Fresno</td></tr><tr><td>Sacramento</td></tr><tr><td>Kansas City</td></tr><tr><td>Atlanta</td></tr><tr><td>Long Beach</td></tr><tr><td>Omaha</td></tr><tr><td>Miami</td></tr><tr><td>Cleveland</td></tr><tr><td>Tampa</td></tr><tr><td>Bakersfield</td></tr><tr><td>Aurora</td></tr><tr><td>Honolulu</td></tr><tr><td>Anaheim</td></tr><tr><td>Santa Ana</td></tr><tr><td>Corpus Christi</td></tr><tr><td>Riverside</td></tr><tr><td>St. Louis</td></tr><tr><td>Lexington</td></tr><tr><td>Stockton</td></tr><tr><td>Pittsburgh</td></tr><tr><td>Anchorage</td></tr><tr><td>Greensboro</td></tr><tr><td>Plano</td></tr><tr><td>Newark</td></tr><tr><td>Lincoln</td></tr><tr><td>Buffalo</td></tr><tr><td>Henderson</td></tr><tr><td>Chula Vista</td></tr><tr><td>Glendale</td></tr><tr><td>Madison</td></tr><tr><td>Chandler</td></tr><tr><td>Lubbock</td></tr><tr><td>Scottsdale</td></tr><tr><td>Buffalo</td></tr><tr><td>Baton Rouge</td></tr><tr><td>Richmond</td></tr><tr><td>Spokane</td></tr><tr><td>Montgomery</td></tr><tr><td>Augusta</td></tr><tr><td>Little Rock</td></tr><tr><td>Akron</td></tr><tr><td>Shreveport</td></tr><tr><td>Mobile</td></tr><tr><td>Grand Rapids</td></tr><tr><td>Salt Lake City</td></tr><tr><td>Tallahassee</td></tr><tr><td>Huntsville</td></tr><tr><td>Frisco</td></tr><tr><td>Birmingham</td></tr></tbody></table></div>"
      ]
     },
     "metadata": {
      "application/vnd.databricks.v1+output": {
       "addedWidgets": {},
       "aggData": [],
       "aggError": "",
       "aggOverflow": false,
       "aggSchema": [],
       "aggSeriesLimitReached": false,
       "aggType": "",
       "arguments": {},
       "columnCustomDisplayInfos": {},
       "data": [
        [
         "New York"
        ],
        [
         "Los Angeles"
        ],
        [
         "Chicago"
        ],
        [
         "Phoenix"
        ],
        [
         "Philadelphia"
        ],
        [
         "San Antonio"
        ],
        [
         "Dallas"
        ],
        [
         "San Jose"
        ],
        [
         "Jacksonville"
        ],
        [
         "Fort Worth"
        ],
        [
         "Columbus"
        ],
        [
         "Charlotte"
        ],
        [
         "San Francisco"
        ],
        [
         "Indianapolis"
        ],
        [
         "Seattle"
        ],
        [
         "Washington"
        ],
        [
         "Boston"
        ],
        [
         "El Paso"
        ],
        [
         "Nashville"
        ],
        [
         "Detroit"
        ],
        [
         "Oklahoma City"
        ],
        [
         "Las Vegas"
        ],
        [
         "Memphis"
        ],
        [
         "Baltimore"
        ],
        [
         "Albuquerque"
        ],
        [
         "Fresno"
        ],
        [
         "Sacramento"
        ],
        [
         "Kansas City"
        ],
        [
         "Atlanta"
        ],
        [
         "Long Beach"
        ],
        [
         "Omaha"
        ],
        [
         "Miami"
        ],
        [
         "Cleveland"
        ],
        [
         "Tampa"
        ],
        [
         "Bakersfield"
        ],
        [
         "Aurora"
        ],
        [
         "Honolulu"
        ],
        [
         "Anaheim"
        ],
        [
         "Santa Ana"
        ],
        [
         "Corpus Christi"
        ],
        [
         "Riverside"
        ],
        [
         "St. Louis"
        ],
        [
         "Lexington"
        ],
        [
         "Stockton"
        ],
        [
         "Pittsburgh"
        ],
        [
         "Anchorage"
        ],
        [
         "Greensboro"
        ],
        [
         "Plano"
        ],
        [
         "Newark"
        ],
        [
         "Lincoln"
        ],
        [
         "Buffalo"
        ],
        [
         "Henderson"
        ],
        [
         "Chula Vista"
        ],
        [
         "Glendale"
        ],
        [
         "Madison"
        ],
        [
         "Chandler"
        ],
        [
         "Lubbock"
        ],
        [
         "Scottsdale"
        ],
        [
         "Buffalo"
        ],
        [
         "Baton Rouge"
        ],
        [
         "Richmond"
        ],
        [
         "Spokane"
        ],
        [
         "Montgomery"
        ],
        [
         "Augusta"
        ],
        [
         "Little Rock"
        ],
        [
         "Akron"
        ],
        [
         "Shreveport"
        ],
        [
         "Mobile"
        ],
        [
         "Grand Rapids"
        ],
        [
         "Salt Lake City"
        ],
        [
         "Tallahassee"
        ],
        [
         "Huntsville"
        ],
        [
         "Frisco"
        ],
        [
         "Birmingham"
        ]
       ],
       "datasetInfos": [],
       "dbfsResultPath": null,
       "isJsonSchema": true,
       "metadata": {},
       "overflow": false,
       "plotOptions": {
        "customPlotOptions": {},
        "displayType": "table",
        "pivotAggregation": null,
        "pivotColumns": null,
        "xColumns": null,
        "yColumns": null
       },
       "removedWidgets": [],
       "schema": [
        {
         "metadata": "{}",
         "name": "cidade",
         "type": "\"string\""
        }
       ],
       "type": "table"
      }
     },
     "output_type": "display_data"
    }
   ],
   "source": [
    "cidades_com_cervejarias = gold_df.select(\"cidade\").distinct()\n",
    "\n",
    "# 2. Lista simplificada de cidades dos Estados Unidos\n",
    "usa_cidades = [\n",
    "    \"New York\", \"Los Angeles\", \"Chicago\", \"Houston\", \"Phoenix\", \"Philadelphia\", \"San Antonio\",\n",
    "    \"San Diego\", \"Dallas\", \"San Jose\", \"Austin\", \"Jacksonville\", \"Fort Worth\", \"Columbus\",\n",
    "    \"Charlotte\", \"San Francisco\", \"Indianapolis\", \"Seattle\", \"Denver\", \"Washington\", \"Boston\",\n",
    "    \"El Paso\", \"Nashville\", \"Detroit\", \"Oklahoma City\", \"Portland\", \"Las Vegas\", \"Memphis\",\n",
    "    \"Louisville\", \"Baltimore\", \"Milwaukee\", \"Albuquerque\", \"Tucson\", \"Fresno\", \"Sacramento\",\n",
    "    \"Mesa\", \"Kansas City\", \"Atlanta\", \"Long Beach\", \"Omaha\", \"Raleigh\", \"Miami\", \"Cleveland\",\n",
    "    \"Tampa\", \"Bakersfield\", \"Aurora\", \"Honolulu\", \"Anaheim\", \"Santa Ana\", \"Corpus Christi\",\n",
    "    \"Riverside\", \"St. Louis\", \"Lexington\", \"Stockton\", \"Pittsburgh\", \"Cincinnati\", \"Anchorage\",\n",
    "    \"Greensboro\", \"Plano\", \"Newark\", \"Lincoln\", \"Buffalo\", \"Henderson\", \"Chula Vista\", \"Glendale\",\n",
    "    \"Madison\", \"Chandler\", \"Lubbock\", \"Scottsdale\", \"Reno\", \"Buffalo\", \"Baton Rouge\", \"Richmond\",\n",
    "    \"Boise\", \"Spokane\", \"Des Moines\", \"Montgomery\", \"Augusta\", \"Little Rock\", \"Akron\", \"Shreveport\",\n",
    "    \"Mobile\", \"Grand Rapids\", \"Salt Lake City\", \"Tallahassee\", \"Huntsville\", \"Frisco\", \"Birmingham\"\n",
    "]\n",
    "usa_cidades = spark.createDataFrame([Row(cidade=city) for city in all_us_cities])\n",
    "cidades_sem_cervejarias = all_cities_df.join(cities_with_breweries, on=\"cidade\", how=\"left_anti\")\n",
    "display(cidades_sem_cervejarias)"
   ]
  },
  {
   "cell_type": "markdown",
   "metadata": {
    "application/vnd.databricks.v1+cell": {
     "cellMetadata": {},
     "inputWidgets": {},
     "nuid": "5580823a-db2b-4b92-bb1f-2751a2f94fa6",
     "showTitle": false,
     "tableResultSettingsMap": {},
     "title": ""
    }
   },
   "source": [
    "##Cervejaria por tipo"
   ]
  },
  {
   "cell_type": "code",
   "execution_count": 0,
   "metadata": {
    "application/vnd.databricks.v1+cell": {
     "cellMetadata": {
      "byteLimit": 2048000,
      "rowLimit": 10000
     },
     "inputWidgets": {},
     "nuid": "f750d539-a4c0-4e31-96bb-88d13274bc07",
     "showTitle": false,
     "tableResultSettingsMap": {},
     "title": ""
    }
   },
   "outputs": [
    {
     "output_type": "display_data",
     "data": {
      "text/html": [
       "<style scoped>\n",
       "  .table-result-container {\n",
       "    max-height: 300px;\n",
       "    overflow: auto;\n",
       "  }\n",
       "  table, th, td {\n",
       "    border: 1px solid black;\n",
       "    border-collapse: collapse;\n",
       "  }\n",
       "  th, td {\n",
       "    padding: 5px;\n",
       "  }\n",
       "  th {\n",
       "    text-align: left;\n",
       "  }\n",
       "</style><div class='table-result-container'><table class='table-result'><thead style='background-color: white'><tr><th>tipo_cervejaria</th><th>count</th></tr></thead><tbody><tr><td>brewpub</td><td>8</td></tr><tr><td>closed</td><td>2</td></tr><tr><td>micro</td><td>31</td></tr><tr><td>large</td><td>7</td></tr><tr><td>proprietor</td><td>1</td></tr><tr><td>contract</td><td>1</td></tr></tbody></table></div>"
      ]
     },
     "metadata": {
      "application/vnd.databricks.v1+output": {
       "addedWidgets": {},
       "aggData": [],
       "aggError": "",
       "aggOverflow": false,
       "aggSchema": [],
       "aggSeriesLimitReached": false,
       "aggType": "",
       "arguments": {},
       "columnCustomDisplayInfos": {},
       "data": [
        [
         "brewpub",
         8
        ],
        [
         "closed",
         2
        ],
        [
         "micro",
         31
        ],
        [
         "large",
         7
        ],
        [
         "proprietor",
         1
        ],
        [
         "contract",
         1
        ]
       ],
       "datasetInfos": [],
       "dbfsResultPath": null,
       "isJsonSchema": true,
       "metadata": {},
       "overflow": false,
       "plotOptions": {
        "customPlotOptions": {},
        "displayType": "table",
        "pivotAggregation": null,
        "pivotColumns": null,
        "xColumns": null,
        "yColumns": null
       },
       "removedWidgets": [],
       "schema": [
        {
         "metadata": "{}",
         "name": "tipo_cervejaria",
         "type": "\"string\""
        },
        {
         "metadata": "{}",
         "name": "count",
         "type": "\"long\""
        }
       ],
       "type": "table"
      }
     },
     "output_type": "display_data"
    }
   ],
   "source": [
    "# Contagem de cervejarias por tipo\n",
    "tipos_cervejarias = gold_df.groupBy(\"tipo_cervejaria\").count()\n",
    "display(tipos_cervejarias)\n"
   ]
  },
  {
   "cell_type": "markdown",
   "metadata": {
    "application/vnd.databricks.v1+cell": {
     "cellMetadata": {},
     "inputWidgets": {},
     "nuid": "61c331d2-6b80-4705-8d16-8c65b5f85c70",
     "showTitle": false,
     "tableResultSettingsMap": {},
     "title": ""
    }
   },
   "source": [
    "##Cervejaria por cidade e país"
   ]
  },
  {
   "cell_type": "code",
   "execution_count": 0,
   "metadata": {
    "application/vnd.databricks.v1+cell": {
     "cellMetadata": {
      "byteLimit": 2048000,
      "rowLimit": 10000
     },
     "inputWidgets": {},
     "nuid": "343f4b43-c616-4555-b688-b93379251617",
     "showTitle": false,
     "tableResultSettingsMap": {},
     "title": ""
    }
   },
   "outputs": [
    {
     "output_type": "display_data",
     "data": {
      "text/html": [
       "<style scoped>\n",
       "  .table-result-container {\n",
       "    max-height: 300px;\n",
       "    overflow: auto;\n",
       "  }\n",
       "  table, th, td {\n",
       "    border: 1px solid black;\n",
       "    border-collapse: collapse;\n",
       "  }\n",
       "  th, td {\n",
       "    padding: 5px;\n",
       "  }\n",
       "  th {\n",
       "    text-align: left;\n",
       "  }\n",
       "</style><div class='table-result-container'><table class='table-result'><thead style='background-color: white'><tr><th>cidade</th><th>pais</th><th>count</th></tr></thead><tbody><tr><td>Westlake Village</td><td>United States</td><td>1</td></tr><tr><td>Taylors</td><td>United States</td><td>1</td></tr><tr><td>Petaluma</td><td>United States</td><td>1</td></tr><tr><td>Bend</td><td>United States</td><td>3</td></tr><tr><td>Ocracoke</td><td>United States</td><td>1</td></tr><tr><td>Abington</td><td>United States</td><td>1</td></tr><tr><td>Assumption</td><td>United States</td><td>1</td></tr><tr><td>Portland</td><td>United States</td><td>2</td></tr><tr><td>Raleigh</td><td>United States</td><td>1</td></tr><tr><td>Denver</td><td>United States</td><td>2</td></tr><tr><td>Mount Pleasant</td><td>United States</td><td>1</td></tr><tr><td>Tucson</td><td>United States</td><td>1</td></tr><tr><td>Georgetown</td><td>United States</td><td>1</td></tr><tr><td>Williamsville</td><td>United States</td><td>1</td></tr><tr><td>Boise</td><td>United States</td><td>1</td></tr><tr><td>Houston</td><td>United States</td><td>1</td></tr><tr><td>Bellingham</td><td>United States</td><td>1</td></tr><tr><td>Coraopolis</td><td>United States</td><td>1</td></tr><tr><td>Kenmore</td><td>United States</td><td>1</td></tr><tr><td>Saint Paul</td><td>United States</td><td>1</td></tr><tr><td>Gilbert</td><td>United States</td><td>1</td></tr><tr><td>Milwaukee</td><td>United States</td><td>1</td></tr><tr><td>Castle Rock</td><td>United States</td><td>1</td></tr><tr><td>Norman</td><td>United States</td><td>1</td></tr><tr><td>Gary</td><td>United States</td><td>1</td></tr><tr><td>Cincinnati</td><td>United States</td><td>1</td></tr><tr><td>John Day</td><td>United States</td><td>1</td></tr><tr><td>Holland Patent</td><td>United States</td><td>1</td></tr><tr><td>Killeshin</td><td>Ireland</td><td>1</td></tr><tr><td>Saint Albans</td><td>United States</td><td>1</td></tr><tr><td>San Diego</td><td>United States</td><td>1</td></tr><tr><td>Des Moines</td><td>United States</td><td>1</td></tr><tr><td>Austin</td><td>United States</td><td>1</td></tr><tr><td>Reno</td><td>United States</td><td>1</td></tr><tr><td>Mason</td><td>United States</td><td>1</td></tr><tr><td>Louisville</td><td>United States</td><td>1</td></tr><tr><td>okolona</td><td>United States</td><td>1</td></tr><tr><td>Anoka</td><td>United States</td><td>1</td></tr><tr><td>Knox</td><td>United States</td><td>1</td></tr><tr><td>Hammond</td><td>United States</td><td>1</td></tr><tr><td>Jackson</td><td>United States</td><td>1</td></tr><tr><td>Mariposa</td><td>United States</td><td>1</td></tr><tr><td>Crosslake</td><td>United States</td><td>1</td></tr><tr><td>Westminister</td><td>United States</td><td>1</td></tr><tr><td>Spotsylvania</td><td>United States</td><td>1</td></tr><tr><td>Mesa</td><td>United States</td><td>1</td></tr></tbody></table></div>"
      ]
     },
     "metadata": {
      "application/vnd.databricks.v1+output": {
       "addedWidgets": {},
       "aggData": [],
       "aggError": "",
       "aggOverflow": false,
       "aggSchema": [],
       "aggSeriesLimitReached": false,
       "aggType": "",
       "arguments": {},
       "columnCustomDisplayInfos": {},
       "data": [
        [
         "Westlake Village",
         "United States",
         1
        ],
        [
         "Taylors",
         "United States",
         1
        ],
        [
         "Petaluma",
         "United States",
         1
        ],
        [
         "Bend",
         "United States",
         3
        ],
        [
         "Ocracoke",
         "United States",
         1
        ],
        [
         "Abington",
         "United States",
         1
        ],
        [
         "Assumption",
         "United States",
         1
        ],
        [
         "Portland",
         "United States",
         2
        ],
        [
         "Raleigh",
         "United States",
         1
        ],
        [
         "Denver",
         "United States",
         2
        ],
        [
         "Mount Pleasant",
         "United States",
         1
        ],
        [
         "Tucson",
         "United States",
         1
        ],
        [
         "Georgetown",
         "United States",
         1
        ],
        [
         "Williamsville",
         "United States",
         1
        ],
        [
         "Boise",
         "United States",
         1
        ],
        [
         "Houston",
         "United States",
         1
        ],
        [
         "Bellingham",
         "United States",
         1
        ],
        [
         "Coraopolis",
         "United States",
         1
        ],
        [
         "Kenmore",
         "United States",
         1
        ],
        [
         "Saint Paul",
         "United States",
         1
        ],
        [
         "Gilbert",
         "United States",
         1
        ],
        [
         "Milwaukee",
         "United States",
         1
        ],
        [
         "Castle Rock",
         "United States",
         1
        ],
        [
         "Norman",
         "United States",
         1
        ],
        [
         "Gary",
         "United States",
         1
        ],
        [
         "Cincinnati",
         "United States",
         1
        ],
        [
         "John Day",
         "United States",
         1
        ],
        [
         "Holland Patent",
         "United States",
         1
        ],
        [
         "Killeshin",
         "Ireland",
         1
        ],
        [
         "Saint Albans",
         "United States",
         1
        ],
        [
         "San Diego",
         "United States",
         1
        ],
        [
         "Des Moines",
         "United States",
         1
        ],
        [
         "Austin",
         "United States",
         1
        ],
        [
         "Reno",
         "United States",
         1
        ],
        [
         "Mason",
         "United States",
         1
        ],
        [
         "Louisville",
         "United States",
         1
        ],
        [
         "okolona",
         "United States",
         1
        ],
        [
         "Anoka",
         "United States",
         1
        ],
        [
         "Knox",
         "United States",
         1
        ],
        [
         "Hammond",
         "United States",
         1
        ],
        [
         "Jackson",
         "United States",
         1
        ],
        [
         "Mariposa",
         "United States",
         1
        ],
        [
         "Crosslake",
         "United States",
         1
        ],
        [
         "Westminister",
         "United States",
         1
        ],
        [
         "Spotsylvania",
         "United States",
         1
        ],
        [
         "Mesa",
         "United States",
         1
        ]
       ],
       "datasetInfos": [],
       "dbfsResultPath": null,
       "isJsonSchema": true,
       "metadata": {},
       "overflow": false,
       "plotOptions": {
        "customPlotOptions": {},
        "displayType": "table",
        "pivotAggregation": null,
        "pivotColumns": null,
        "xColumns": null,
        "yColumns": null
       },
       "removedWidgets": [],
       "schema": [
        {
         "metadata": "{}",
         "name": "cidade",
         "type": "\"string\""
        },
        {
         "metadata": "{}",
         "name": "pais",
         "type": "\"string\""
        },
        {
         "metadata": "{}",
         "name": "count",
         "type": "\"long\""
        }
       ],
       "type": "table"
      }
     },
     "output_type": "display_data"
    }
   ],
   "source": [
    "# Contagem de cervejarias por cidade e país\n",
    "cervejarias_locais = gold_df.groupBy(\"cidade\", \"pais\").count()\n",
    "display(cervejarias_locais)\n"
   ]
  },
  {
   "cell_type": "markdown",
   "metadata": {
    "application/vnd.databricks.v1+cell": {
     "cellMetadata": {},
     "inputWidgets": {},
     "nuid": "0fc590d7-8668-4a22-8a21-1ab46bfa086f",
     "showTitle": false,
     "tableResultSettingsMap": {},
     "title": ""
    }
   },
   "source": [
    "##Cervejaria por estado"
   ]
  },
  {
   "cell_type": "code",
   "execution_count": 0,
   "metadata": {
    "application/vnd.databricks.v1+cell": {
     "cellMetadata": {
      "byteLimit": 2048000,
      "rowLimit": 10000
     },
     "inputWidgets": {},
     "nuid": "4d8a37ff-64ac-4656-a0f4-a038e3c450bc",
     "showTitle": false,
     "tableResultSettingsMap": {},
     "title": ""
    }
   },
   "outputs": [
    {
     "output_type": "display_data",
     "data": {
      "text/html": [
       "<style scoped>\n",
       "  .table-result-container {\n",
       "    max-height: 300px;\n",
       "    overflow: auto;\n",
       "  }\n",
       "  table, th, td {\n",
       "    border: 1px solid black;\n",
       "    border-collapse: collapse;\n",
       "  }\n",
       "  th, td {\n",
       "    padding: 5px;\n",
       "  }\n",
       "  th {\n",
       "    text-align: left;\n",
       "  }\n",
       "</style><div class='table-result-container'><table class='table-result'><thead style='background-color: white'><tr><th>estado</th><th>count</th></tr></thead><tbody><tr><td>Oregon</td><td>6</td></tr><tr><td>North Carolina</td><td>2</td></tr><tr><td>Massachusetts</td><td>1</td></tr><tr><td>South Carolina</td><td>1</td></tr><tr><td>California</td><td>4</td></tr><tr><td>Illinois</td><td>1</td></tr><tr><td>Arizona</td><td>3</td></tr><tr><td>Wisconsin</td><td>2</td></tr><tr><td>Colorado</td><td>4</td></tr><tr><td>Texas</td><td>2</td></tr><tr><td>Pennsylvania</td><td>1</td></tr><tr><td>Washington</td><td>2</td></tr><tr><td>Delaware</td><td>1</td></tr><tr><td>Idaho</td><td>1</td></tr><tr><td>New York</td><td>2</td></tr><tr><td>Minnesota</td><td>3</td></tr><tr><td>Oklahoma</td><td>1</td></tr><tr><td>Ohio</td><td>2</td></tr><tr><td>Vermont</td><td>1</td></tr><tr><td>Indiana</td><td>3</td></tr><tr><td>Laois</td><td>1</td></tr><tr><td>Nevada</td><td>1</td></tr><tr><td>Iowa</td><td>1</td></tr><tr><td>Michigan</td><td>1</td></tr><tr><td>Mississippi</td><td>1</td></tr><tr><td>Virginia</td><td>1</td></tr><tr><td>Maryland</td><td>1</td></tr></tbody></table></div>"
      ]
     },
     "metadata": {
      "application/vnd.databricks.v1+output": {
       "addedWidgets": {},
       "aggData": [],
       "aggError": "",
       "aggOverflow": false,
       "aggSchema": [],
       "aggSeriesLimitReached": false,
       "aggType": "",
       "arguments": {},
       "columnCustomDisplayInfos": {},
       "data": [
        [
         "Oregon",
         6
        ],
        [
         "North Carolina",
         2
        ],
        [
         "Massachusetts",
         1
        ],
        [
         "South Carolina",
         1
        ],
        [
         "California",
         4
        ],
        [
         "Illinois",
         1
        ],
        [
         "Arizona",
         3
        ],
        [
         "Wisconsin",
         2
        ],
        [
         "Colorado",
         4
        ],
        [
         "Texas",
         2
        ],
        [
         "Pennsylvania",
         1
        ],
        [
         "Washington",
         2
        ],
        [
         "Delaware",
         1
        ],
        [
         "Idaho",
         1
        ],
        [
         "New York",
         2
        ],
        [
         "Minnesota",
         3
        ],
        [
         "Oklahoma",
         1
        ],
        [
         "Ohio",
         2
        ],
        [
         "Vermont",
         1
        ],
        [
         "Indiana",
         3
        ],
        [
         "Laois",
         1
        ],
        [
         "Nevada",
         1
        ],
        [
         "Iowa",
         1
        ],
        [
         "Michigan",
         1
        ],
        [
         "Mississippi",
         1
        ],
        [
         "Virginia",
         1
        ],
        [
         "Maryland",
         1
        ]
       ],
       "datasetInfos": [],
       "dbfsResultPath": null,
       "isJsonSchema": true,
       "metadata": {},
       "overflow": false,
       "plotOptions": {
        "customPlotOptions": {},
        "displayType": "table",
        "pivotAggregation": null,
        "pivotColumns": null,
        "xColumns": null,
        "yColumns": null
       },
       "removedWidgets": [],
       "schema": [
        {
         "metadata": "{}",
         "name": "estado",
         "type": "\"string\""
        },
        {
         "metadata": "{}",
         "name": "count",
         "type": "\"long\""
        }
       ],
       "type": "table"
      }
     },
     "output_type": "display_data"
    }
   ],
   "source": [
    "# Contagem de cervejarias por estado\n",
    "cervejarias_estado = gold_df.groupBy(\"estado\").count()\n",
    "display(cervejarias_estado)"
   ]
  },
  {
   "cell_type": "code",
   "execution_count": 0,
   "metadata": {
    "application/vnd.databricks.v1+cell": {
     "cellMetadata": {
      "byteLimit": 2048000,
      "rowLimit": 10000
     },
     "inputWidgets": {},
     "nuid": "d40491c2-97c0-471b-9083-48ce128f8a29",
     "showTitle": false,
     "tableResultSettingsMap": {},
     "title": ""
    }
   },
   "outputs": [],
   "source": [
    "gold_df.write.format(\"delta\").mode(\"overwrite\").saveAsTable(\"gold_table\")"
   ]
  }
 ],
 "metadata": {
  "application/vnd.databricks.v1+notebook": {
   "computePreferences": null,
   "dashboards": [],
   "environmentMetadata": {
    "base_environment": "",
    "client": "1"
   },
   "language": "python",
   "notebookMetadata": {
    "pythonIndentUnit": 4
   },
   "notebookName": "Gold_PSW",
   "widgets": {}
  }
 },
 "nbformat": 4,
 "nbformat_minor": 0
}
