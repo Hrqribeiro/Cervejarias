{
 "cells": [
  {
   "cell_type": "markdown",
   "metadata": {
    "application/vnd.databricks.v1+cell": {
     "cellMetadata": {},
     "inputWidgets": {},
     "nuid": "79b1c8d4-7424-400e-86d9-e64491fc3c01",
     "showTitle": false,
     "tableResultSettingsMap": {},
     "title": ""
    }
   },
   "source": [
    "##Bibliotecas"
   ]
  },
  {
   "cell_type": "code",
   "execution_count": 0,
   "metadata": {
    "application/vnd.databricks.v1+cell": {
     "cellMetadata": {
      "byteLimit": 2048000,
      "rowLimit": 10000
     },
     "inputWidgets": {},
     "nuid": "5d648b3e-cc8d-43db-877a-79c77e9824b5",
     "showTitle": false,
     "tableResultSettingsMap": {},
     "title": ""
    }
   },
   "outputs": [],
   "source": [
    "from pyspark.sql.functions import col, current_timestamp, from_utc_timestamp, date_format\n",
    "from pyspark.sql.types import IntegerType, DoubleType, StringType, DateType\n",
    "from pyspark.sql import functions as F"
   ]
  },
  {
   "cell_type": "markdown",
   "metadata": {
    "application/vnd.databricks.v1+cell": {
     "cellMetadata": {},
     "inputWidgets": {},
     "nuid": "a462cc74-eafd-4939-896d-6a3e3eb5bddd",
     "showTitle": false,
     "tableResultSettingsMap": {},
     "title": ""
    }
   },
   "source": [
    "##Tratamento do dataframe"
   ]
  },
  {
   "cell_type": "markdown",
   "metadata": {
    "application/vnd.databricks.v1+cell": {
     "cellMetadata": {},
     "inputWidgets": {},
     "nuid": "0f1640b6-02b1-4f64-81d3-a528526c2c8e",
     "showTitle": false,
     "tableResultSettingsMap": {},
     "title": ""
    }
   },
   "source": [
    "###Excluir colunas sem dados"
   ]
  },
  {
   "cell_type": "code",
   "execution_count": 0,
   "metadata": {
    "application/vnd.databricks.v1+cell": {
     "cellMetadata": {
      "byteLimit": 2048000,
      "rowLimit": 10000
     },
     "inputWidgets": {},
     "nuid": "774463cc-1995-4684-ba91-d327de52cb33",
     "showTitle": false,
     "tableResultSettingsMap": {},
     "title": ""
    }
   },
   "outputs": [],
   "source": [
    "bronze_df = spark.table(\"bronze_table\")\n",
    "bronze_df = bronze_df.drop(\"address_2\", \"address_3\")\n",
    "bronze_df = bronze_df.dropDuplicates()"
   ]
  },
  {
   "cell_type": "markdown",
   "metadata": {
    "application/vnd.databricks.v1+cell": {
     "cellMetadata": {},
     "inputWidgets": {},
     "nuid": "6ae38732-821f-4124-adaa-a1abe00e90d1",
     "showTitle": false,
     "tableResultSettingsMap": {},
     "title": ""
    }
   },
   "source": [
    "###Renomear colunas"
   ]
  },
  {
   "cell_type": "code",
   "execution_count": 0,
   "metadata": {
    "application/vnd.databricks.v1+cell": {
     "cellMetadata": {
      "byteLimit": 2048000,
      "rowLimit": 10000
     },
     "inputWidgets": {},
     "nuid": "2828f355-ea86-49bd-a3c7-549b552a432a",
     "showTitle": false,
     "tableResultSettingsMap": {},
     "title": ""
    }
   },
   "outputs": [
    {
     "output_type": "display_data",
     "data": {
      "text/html": [
       "<style scoped>\n",
       "  .table-result-container {\n",
       "    max-height: 300px;\n",
       "    overflow: auto;\n",
       "  }\n",
       "  table, th, td {\n",
       "    border: 1px solid black;\n",
       "    border-collapse: collapse;\n",
       "  }\n",
       "  th, td {\n",
       "    padding: 5px;\n",
       "  }\n",
       "  th {\n",
       "    text-align: left;\n",
       "  }\n",
       "</style><div class='table-result-container'><table class='table-result'><thead style='background-color: white'><tr><th>endereco_1</th><th>tipo_cervejaria</th><th>cidade</th><th>pais</th><th>id</th><th>latitude</th><th>longitude</th><th>nome</th><th>telefone</th><th>codigo_postal</th><th>estado</th><th>estado_provincia</th><th>rua</th><th>url_site</th><th>data_criacao</th></tr></thead><tbody><tr><td>100 B South Olive St</td><td>micro</td><td>okolona</td><td>United States</td><td>46839a79-b7bf-4733-b91b-ce116d062a57</td><td>34.001703</td><td>-88.750264</td><td>1817 Brewery</td><td>6623055907</td><td>38860</td><td>Mississippi</td><td>Mississippi</td><td>100 B South Olive St</td><td>null</td><td>22/01/2025 11:39:55</td></tr><tr><td>322 E Court Ave</td><td>micro</td><td>Des Moines</td><td>United States</td><td>84bd3b3c-bd2d-4e07-bc31-b43a8c8ebf4c</td><td>41.5872267</td><td>-93.6120353</td><td>1717 Brewing Co</td><td>5152437868</td><td>50309-2015</td><td>Iowa</td><td>Iowa</td><td>322 E Court Ave</td><td>http://1717brewing.com</td><td>22/01/2025 11:39:55</td></tr><tr><td>62950 NE 18th St</td><td>large</td><td>Bend</td><td>United States</td><td>9f1852da-c312-42da-9a31-097bac81c4c0</td><td>44.0912109</td><td>-121.2809536</td><td>10 Barrel Brewing Co - Bend Pub</td><td>5415851007</td><td>97701</td><td>Oregon</td><td>Oregon</td><td>62950 NE 18th St</td><td>null</td><td>22/01/2025 11:39:55</td></tr><tr><td>9542 Main St</td><td>brewpub</td><td>Holland Patent</td><td>United States</td><td>ee6d39c6-092f-4623-8099-5b8643f70dbe</td><td>43.24211175</td><td>-75.2565195</td><td>16 Stone Brewpub</td><td>3158658500</td><td>13354</td><td>New York</td><td>New York</td><td>9542 Main St</td><td>http://www.16stonebrewpub.com</td><td>22/01/2025 11:39:55</td></tr><tr><td>1716 Topeka St</td><td>micro</td><td>Norman</td><td>United States</td><td>5128df48-79fc-4f0f-8b52-d06be54d0cec</td><td>35.25738891</td><td>-97.46818222</td><td>(405) Brewing Co</td><td>4058160490</td><td>73069-8224</td><td>Oklahoma</td><td>Oklahoma</td><td>1716 Topeka St</td><td>http://www.405brewing.com</td><td>22/01/2025 11:39:55</td></tr><tr><td>5725 Miller Ave</td><td>micro</td><td>Gary</td><td>United States</td><td>b51f3cdf-60ff-4ae1-94a7-76906c7d62eb</td><td>41.59928343</td><td>-87.26887786</td><td>18th Street Brewery</td><td>null</td><td>46403-2871</td><td>Indiana</td><td>Indiana</td><td>5725 Miller Ave</td><td>http://www.18thstreetbrewery.com</td><td>22/01/2025 11:39:55</td></tr><tr><td>1129 Irvin Garrish Hwy</td><td>brewpub</td><td>Ocracoke</td><td>United States</td><td>f41a0c47-ba9b-4547-bfed-fcbefe0fc74b</td><td>35.10715368</td><td>-75.97176063</td><td>1718 Ocracoke Brewing</td><td>2529282337</td><td>27960</td><td>North Carolina</td><td>North Carolina</td><td>1129 Irvin Garrish Hwy</td><td>http://www.ocracokebrewing.com</td><td>22/01/2025 11:39:55</td></tr><tr><td>null</td><td>micro</td><td>Mesa</td><td>United States</td><td>0faa0fb2-fffa-416d-9eab-46f67477c8ef</td><td>33.436188</td><td>-111.5860662</td><td>12 West Brewing Company - Production Facility</td><td>null</td><td>85207</td><td>Arizona</td><td>Arizona</td><td>null</td><td>null</td><td>22/01/2025 11:39:55</td></tr><tr><td>753 Reading Rd</td><td>brewpub</td><td>Mason</td><td>United States</td><td>85192a9c-58a4-48c3-bd9d-496d09d22aa3</td><td>39.3545967</td><td>-84.3183801</td><td>16 Lots Brewing</td><td>5134863672</td><td>45040-1303</td><td>Ohio</td><td>Ohio</td><td>753 Reading Rd</td><td>http://www.16lots.com</td><td>22/01/2025 11:39:55</td></tr><tr><td>407 Radam Ln Ste F200</td><td>micro</td><td>Austin</td><td>United States</td><td>9c5a66c8-cc13-416f-a5d9-0a769c87d318</td><td>null</td><td>null</td><td>(512) Brewing Co</td><td>5129211545</td><td>78745-1197</td><td>Texas</td><td>Texas</td><td>407 Radam Ln Ste F200</td><td>http://www.512brewing.com</td><td>22/01/2025 11:39:55</td></tr><tr><td>3090 Shirley Dr</td><td>micro</td><td>Jackson</td><td>United States</td><td>d5cb896d-3e99-4e19-9693-5e06ce987e53</td><td>42.28667212</td><td>-84.43116792</td><td>127 Brewing</td><td>5172581346</td><td>49201-7010</td><td>Michigan</td><td>Michigan</td><td>3090 Shirley Dr</td><td>null</td><td>22/01/2025 11:39:55</td></tr><tr><td>820 Main St</td><td>brewpub</td><td>Louisville</td><td>United States</td><td>06e9fffb-e820-45c9-b107-b52b51013e8f</td><td>39.9782443</td><td>-105.1319826</td><td>12Degree Brewing</td><td>3035791004</td><td>80027-1865</td><td>Colorado</td><td>Colorado</td><td>820 Main St</td><td>http://www.12degree.com</td><td>22/01/2025 11:39:55</td></tr><tr><td>null</td><td>micro</td><td>Mariposa</td><td>United States</td><td>fe6b9893-b93e-43d5-a9f6-3e0c89a3f13c</td><td>37.570148</td><td>-119.9036592</td><td>1850 Brewing Company</td><td>null</td><td>95338</td><td>California</td><td>California</td><td>null</td><td>http://www.1850restaurant.com</td><td>22/01/2025 11:39:55</td></tr><tr><td>8100 Washington Ave</td><td>micro</td><td>Mount Pleasant</td><td>United States</td><td>34e8c68b-6146-453f-a4b9-1f6cd99a5ada</td><td>42.72010826899558</td><td>-87.88336350209435</td><td>1 of Us Brewing Company</td><td>2624847553</td><td>53406-3920</td><td>Wisconsin</td><td>Wisconsin</td><td>8100 Washington Ave</td><td>https://www.1ofusbrewing.com</td><td>22/01/2025 11:39:55</td></tr><tr><td>400 Brown Cir</td><td>micro</td><td>Knox</td><td>United States</td><td>7531dbd8-afc9-4b5b-95bc-7ece7f2c0bf3</td><td>41.289715</td><td>-86.627954</td><td>10-56 Brewing Company</td><td>6308165790</td><td>46534</td><td>Indiana</td><td>Indiana</td><td>400 Brown Cir</td><td>null</td><td>22/01/2025 11:39:55</td></tr><tr><td>1043 Park St</td><td>micro</td><td>Castle Rock</td><td>United States</td><td>4ffda196-dd59-44a5-9eeb-5f7fd4b58f5a</td><td>39.38269495</td><td>-104.8667206</td><td>105 West Brewing Co</td><td>3033257321</td><td>80109-1585</td><td>Colorado</td><td>Colorado</td><td>1043 Park St</td><td>http://www.105westbrewing.com</td><td>22/01/2025 11:39:55</td></tr><tr><td>1301 S Chestnut St</td><td>micro</td><td>Assumption</td><td>United States</td><td>dbde8235-2b55-4d8b-8b1c-438155abe104</td><td>39.5172564</td><td>-89.0503635</td><td>1905 Brewing Company</td><td>2172549374</td><td>62510-8504</td><td>Illinois</td><td>Illinois</td><td>1301 S Chestnut St</td><td>http://1905BrewingCompany.com</td><td>22/01/2025 11:39:55</td></tr><tr><td>62970 18th St</td><td>large</td><td>Bend</td><td>United States</td><td>6d14b220-8926-4521-8d19-b98a2d6ec3db</td><td>44.08683531</td><td>-121.281706</td><td>10 Barrel Brewing Co</td><td>5415851007</td><td>97701-9847</td><td>Oregon</td><td>Oregon</td><td>62970 18th St</td><td>http://www.10barrel.com</td><td>22/01/2025 11:39:55</td></tr><tr><td>342 E Ward St</td><td>micro</td><td>Milwaukee</td><td>United States</td><td>1a1b2165-73ed-40aa-b89b-56794d140f22</td><td>43.00436242</td><td>-87.90606942</td><td>1840 Brewing Company</td><td>4142364056</td><td>53207-1348</td><td>Wisconsin</td><td>Wisconsin</td><td>342 E Ward St</td><td>http://www.1840brewing.com</td><td>22/01/2025 11:39:55</td></tr><tr><td>2005 2nd Ave</td><td>micro</td><td>Anoka</td><td>United States</td><td>42aa37d5-8384-4ffe-8c81-7c982eff0384</td><td>45.19812039</td><td>-93.38952559</td><td>10K Brewing</td><td>7633924753</td><td>55303-2243</td><td>Minnesota</td><td>Minnesota</td><td>2005 2nd Ave</td><td>http://10KBrew.com</td><td>22/01/2025 11:39:55</td></tr><tr><td>11109 Plank Rd</td><td>micro</td><td>Spotsylvania</td><td>United States</td><td>84d621c4-81a5-44e6-aca7-1566c2e67cc0</td><td>null</td><td>null</td><td>1781 Brewing Company</td><td>5408412598</td><td>22553-4258</td><td>Virginia</td><td>Virginia</td><td>11109 Plank Rd</td><td>null</td><td>22/01/2025 11:39:55</td></tr><tr><td>3000 E Ray Rd Bldg 6</td><td>micro</td><td>Gilbert</td><td>United States</td><td>fb94830f-6196-4f59-9189-c9060b778085</td><td>null</td><td>null</td><td>12 West Brewing Company</td><td>6023395014</td><td>85296-7832</td><td>Arizona</td><td>Arizona</td><td>3000 E Ray Rd Bldg 6</td><td>http://www.12westbrewing.com</td><td>22/01/2025 11:39:55</td></tr><tr><td>1501 E St</td><td>large</td><td>San Diego</td><td>United States</td><td>ef970757-fe42-416f-931d-722451f1f59c</td><td>32.714813</td><td>-117.129593</td><td>10 Barrel Brewing Co</td><td>6195782311</td><td>92101-6618</td><td>California</td><td>California</td><td>1501 E St</td><td>http://10barrel.com</td><td>22/01/2025 11:39:55</td></tr><tr><td>2801 Walnut St</td><td>proprietor</td><td>Denver</td><td>United States</td><td>4b677b60-fef1-42e2-90ef-dadc1bd7fb06</td><td>39.7614112</td><td>-104.9839636</td><td>14er Brewing Company</td><td>7207731437</td><td>80205-2235</td><td>Colorado</td><td>Colorado</td><td>2801 Walnut St</td><td>http://www.14erBrewing.com</td><td>22/01/2025 11:39:55</td></tr><tr><td>250 Mill St, Suite PW3101</td><td>brewpub</td><td>Taylors</td><td>United States</td><td>45119c56-345b-4adc-b481-c5cf7bfe98c4</td><td>null</td><td>null</td><td>13 Stripes Brewery</td><td>8643491430</td><td>29687</td><td>South Carolina</td><td>South Carolina</td><td>250 Mill St, Suite PW3101</td><td>http://www.13StripesBrewery.com</td><td>22/01/2025 11:39:55</td></tr><tr><td>6410 SE Milwaukie Ave</td><td>brewpub</td><td>Portland</td><td>United States</td><td>936c3d7e-5d54-4459-b72c-117cdda059b4</td><td>45.4762536</td><td>-122.6487531</td><td>13 Virtues Brewing Co</td><td>5032393831</td><td>97202-5518</td><td>Oregon</td><td>Oregon</td><td>6410 SE Milwaukie Ave</td><td>http://www.13virtuesbrewing.com</td><td>22/01/2025 11:39:55</td></tr><tr><td>141 E Main St</td><td>brewpub</td><td>John Day</td><td>United States</td><td>58293321-14ae-49d7-9a7b-08436c9e63a6</td><td>44.4146563</td><td>-118.9218754</td><td>1188 Brewing Co</td><td>5415751188</td><td>97845-1210</td><td>Oregon</td><td>Oregon</td><td>141 E Main St</td><td>http://www.1188brewing.com</td><td>22/01/2025 11:39:55</td></tr><tr><td>490 Mill St</td><td>micro</td><td>Reno</td><td>United States</td><td>1ecc330f-6275-42a5-b14e-00adbed62752</td><td>39.5171702</td><td>-119.7732015</td><td>10 Torr Distilling and Brewing</td><td>7755307014</td><td>89502</td><td>Nevada</td><td>Nevada</td><td>490 Mill St</td><td>http://www.10torr.com</td><td>22/01/2025 11:39:55</td></tr><tr><td>826 W Bannock St</td><td>large</td><td>Boise</td><td>United States</td><td>ea4f30c0-bce6-416b-8904-fab4055a7362</td><td>43.618516</td><td>-116.202929</td><td>10 Barrel Brewing Co - Boise</td><td>2083445870</td><td>83702-5857</td><td>Idaho</td><td>Idaho</td><td>826 W Bannock St</td><td>http://www.10barrel.com</td><td>22/01/2025 11:39:55</td></tr><tr><td>Unnamed Street</td><td>micro</td><td>Killeshin</td><td>Ireland</td><td>e5f3e72a-fee2-4813-82cf-f2e53b439ae6</td><td>52.84930763</td><td>-6.979343891</td><td>12 Acres Brewing Company</td><td>353599107299</td><td>R93 X3X8</td><td>Laois</td><td>Laois</td><td>Unnamed Street</td><td>https://12acresbrewing.ie/</td><td>22/01/2025 11:39:55</td></tr><tr><td>2010 A State Ave</td><td>micro</td><td>Coraopolis</td><td>United States</td><td>896f26a1-d80e-4790-9287-026a86c1799d</td><td>40.50984957</td><td>-80.15020356</td><td>180 and Tapped</td><td>4127375273</td><td>15108</td><td>Pennsylvania</td><td>Pennsylvania</td><td>2010 A State Ave</td><td>http://www.180andtapped.com</td><td>22/01/2025 11:39:55</td></tr><tr><td>1304 Scott St Ste D</td><td>closed</td><td>Petaluma</td><td>United States</td><td>5ae467af-66dc-4d7f-8839-44228f89b596</td><td>38.27029381</td><td>-122.665055</td><td>101 North Brewing Company</td><td>7077534934</td><td>94954-7100</td><td>California</td><td>California</td><td>1304 Scott St Ste D</td><td>http://www.101northbeer.com</td><td>22/01/2025 11:39:55</td></tr><tr><td>2416 Meridian St</td><td>closed</td><td>Bellingham</td><td>United States</td><td>e54c2f02-acd6-4172-861d-fcfa54c8701a</td><td>48.7621709</td><td>-122.485982</td><td>122 West Brewing Co</td><td>3603063285</td><td>98225-2405</td><td>Washington</td><td>Washington</td><td>2416 Meridian St</td><td>https://www.122westbrew.com/</td><td>22/01/2025 11:39:55</td></tr><tr><td>null</td><td>micro</td><td>Crosslake</td><td>United States</td><td>b7b68d22-5045-4501-b9bf-ec94946eaffc</td><td>null</td><td>null</td><td>14 Lakes Brewery</td><td>2186924129</td><td>56442</td><td>Minnesota</td><td>Minnesota</td><td>null</td><td>null</td><td>22/01/2025 11:39:55</td></tr><tr><td>7324 NE 175th St</td><td>micro</td><td>Kenmore</td><td>United States</td><td>4ccad9b9-f9cf-4d21-b6d5-ab005ee1532d</td><td>47.75670075</td><td>-122.2415652</td><td>192 Brewing</td><td>4254242337</td><td>98028-2500</td><td>Washington</td><td>Washington</td><td>7324 NE 175th St</td><td>http://www.192brewing.com</td><td>22/01/2025 11:39:55</td></tr><tr><td>2045 N Forbes Blvd Ste 105</td><td>micro</td><td>Tucson</td><td>United States</td><td>4f4b5b34-d572-4dff-a18f-47e507c073e6</td><td>32.24673727</td><td>-110.9927505</td><td>1912 Brewing</td><td>5202564851</td><td>85745-1444</td><td>Arizona</td><td>Arizona</td><td>2045 N Forbes Blvd Ste 105</td><td>http://www.1912brewing.com</td><td>22/01/2025 11:39:55</td></tr><tr><td>80 Earhart Dr Ste 20</td><td>brewpub</td><td>Williamsville</td><td>United States</td><td>d81ff708-b5d2-478f-af6a-6d40f5beb9ac</td><td>null</td><td>null</td><td>12 Gates Brewing Company</td><td>7169066600</td><td>14221-7804</td><td>New York</td><td>New York</td><td>80 Earhart Dr Ste 20</td><td>http://www.12gatesbrewing.com</td><td>22/01/2025 11:39:55</td></tr><tr><td>133 N Main St Ste 7</td><td>micro</td><td>Saint Albans</td><td>United States</td><td>6c53984f-fac1-4ea7-9c44-44e25897c71a</td><td>null</td><td>null</td><td>14th Star Brewing</td><td>8025285988</td><td>05478-1735</td><td>Vermont</td><td>Vermont</td><td>133 N Main St Ste 7</td><td>http://www.14thstarbrewing.com</td><td>22/01/2025 11:39:55</td></tr><tr><td>1135 NW Galveston Ave Ste B</td><td>large</td><td>Bend</td><td>United States</td><td>e2e78bd8-80ff-4a61-a65c-3bfbd9d76ce2</td><td>44.0575649</td><td>-121.3288021</td><td>10 Barrel Brewing Co</td><td>5415851007</td><td>97703-2465</td><td>Oregon</td><td>Oregon</td><td>1135 NW Galveston Ave Ste B</td><td>null</td><td>22/01/2025 11:39:55</td></tr><tr><td>491 Washington St</td><td>micro</td><td>Abington</td><td>United States</td><td>232e8f62-9afc-45f5-b4bc-582c26b5c43b</td><td>42.10591754</td><td>-70.94594149</td><td>10th District Brewing Company</td><td>7813071554</td><td>02351-2419</td><td>Massachusetts</td><td>Massachusetts</td><td>491 Washington St</td><td>http://www.10thdistrictbrewing.com</td><td>22/01/2025 11:39:55</td></tr><tr><td>5417 Oakley Ave</td><td>micro</td><td>Hammond</td><td>United States</td><td>add7f978-942e-4d56-b209-c80837a51d69</td><td>41.61556796</td><td>-87.517422</td><td>18th Street Brewery</td><td>null</td><td>46320-1817</td><td>Indiana</td><td>Indiana</td><td>5417 Oakley Ave</td><td>null</td><td>22/01/2025 11:39:55</td></tr><tr><td>1323 Capital Blvd 1323 R and D</td><td>micro</td><td>Raleigh</td><td>United States</td><td>5c53b314-ebab-4e3e-89be-e4139d9318ae</td><td>null</td><td>null</td><td>1323 R & D</td><td>9199775654</td><td>27603-1117</td><td>North Carolina</td><td>North Carolina</td><td>1323 Capital Blvd 1323 R and D</td><td>http://www.1323rnd.com</td><td>22/01/2025 11:39:55</td></tr><tr><td>2620 Walnut St</td><td>large</td><td>Denver</td><td>United States</td><td>1988eb86-f0a2-4674-ba04-02454efa0d31</td><td>39.7592508</td><td>-104.9853655</td><td>10 Barrel Brewing Co - Denver</td><td>7205738992</td><td>80205-2231</td><td>Colorado</td><td>Colorado</td><td>2620 Walnut St</td><td>null</td><td>22/01/2025 11:39:55</td></tr><tr><td>6820 Bourgeois Rd</td><td>micro</td><td>Houston</td><td>United States</td><td>08f78223-24f8-4b71-b381-ea19a5bd82df</td><td>29.9515464</td><td>-95.5186591</td><td>11 Below Brewing Company</td><td>2814442337</td><td>77066-3107</td><td>Texas</td><td>Texas</td><td>6820 Bourgeois Rd</td><td>http://www.11belowbrewing.com</td><td>22/01/2025 11:39:55</td></tr><tr><td>7391 Forbes Rd</td><td>micro</td><td>Cincinnati</td><td>United States</td><td>950180bd-29c9-46b3-ad0c-e6f09799ec7f</td><td>39.12639764</td><td>-84.70634815</td><td>13 Below Brewery</td><td>5139750613</td><td>45233-1013</td><td>Ohio</td><td>Ohio</td><td>7391 Forbes Rd</td><td>http://www.13belowbrewery.com</td><td>22/01/2025 11:39:55</td></tr><tr><td>413 S Bedford St</td><td>micro</td><td>Georgetown</td><td>United States</td><td>284b44f8-6ccb-4cd6-8d06-f2ad882a47c3</td><td>38.6788938</td><td>-75.37816436</td><td>16 Mile Brewing Co</td><td>3022538816</td><td>19947-1849</td><td>Delaware</td><td>Delaware</td><td>413 S Bedford St</td><td>http://www.16milebrewery.com</td><td>22/01/2025 11:39:55</td></tr><tr><td>1411 NW Flanders St</td><td>large</td><td>Portland</td><td>United States</td><td>e432899b-7f58-455f-9c7b-9a6e2130a1e0</td><td>45.5259786</td><td>-122.6855056</td><td>10 Barrel Brewing Co</td><td>5032241700</td><td>97209-2620</td><td>Oregon</td><td>Oregon</td><td>1411 NW Flanders St</td><td>http://www.10barrel.com</td><td>22/01/2025 11:39:55</td></tr><tr><td>31125 Via Colinas Ste 907</td><td>micro</td><td>Westlake Village</td><td>United States</td><td>4788221a-a03b-458c-9084-4cadd69ade6d</td><td>34.15334</td><td>-118.802397</td><td>14 Cannons Brewing Company</td><td>8186996165</td><td>91362-3974</td><td>California</td><td>California</td><td>31125 Via Colinas Ste 907</td><td>http://14cannons.com</td><td>22/01/2025 11:39:55</td></tr><tr><td>1146 colonel Joshua Ct</td><td>contract</td><td>Westminister</td><td>United States</td><td>d35b40b0-a3ff-4878-a6ee-9caa2149b521</td><td>null</td><td>null</td><td>1623 Brewing CO, llc</td><td>null</td><td>21157</td><td>Maryland</td><td>Maryland</td><td>1146 colonel Joshua Ct</td><td>null</td><td>22/01/2025 11:39:55</td></tr><tr><td>141 E 4th St Ste LL2</td><td>micro</td><td>Saint Paul</td><td>United States</td><td>50521ef7-f543-4c5d-98b1-0d0ee1a2be01</td><td>null</td><td>null</td><td>12welve Eyes Brewing</td><td>6514938106</td><td>55101-1639</td><td>Minnesota</td><td>Minnesota</td><td>141 E 4th St Ste LL2</td><td>http://www.12welveEyes.com</td><td>22/01/2025 11:39:55</td></tr></tbody></table></div>"
      ]
     },
     "metadata": {
      "application/vnd.databricks.v1+output": {
       "addedWidgets": {},
       "aggData": [],
       "aggError": "",
       "aggOverflow": false,
       "aggSchema": [],
       "aggSeriesLimitReached": false,
       "aggType": "",
       "arguments": {},
       "columnCustomDisplayInfos": {},
       "data": [
        [
         "100 B South Olive St",
         "micro",
         "okolona",
         "United States",
         "46839a79-b7bf-4733-b91b-ce116d062a57",
         "34.001703",
         "-88.750264",
         "1817 Brewery",
         "6623055907",
         "38860",
         "Mississippi",
         "Mississippi",
         "100 B South Olive St",
         null,
         "22/01/2025 11:39:55"
        ],
        [
         "322 E Court Ave",
         "micro",
         "Des Moines",
         "United States",
         "84bd3b3c-bd2d-4e07-bc31-b43a8c8ebf4c",
         "41.5872267",
         "-93.6120353",
         "1717 Brewing Co",
         "5152437868",
         "50309-2015",
         "Iowa",
         "Iowa",
         "322 E Court Ave",
         "http://1717brewing.com",
         "22/01/2025 11:39:55"
        ],
        [
         "62950 NE 18th St",
         "large",
         "Bend",
         "United States",
         "9f1852da-c312-42da-9a31-097bac81c4c0",
         "44.0912109",
         "-121.2809536",
         "10 Barrel Brewing Co - Bend Pub",
         "5415851007",
         "97701",
         "Oregon",
         "Oregon",
         "62950 NE 18th St",
         null,
         "22/01/2025 11:39:55"
        ],
        [
         "9542 Main St",
         "brewpub",
         "Holland Patent",
         "United States",
         "ee6d39c6-092f-4623-8099-5b8643f70dbe",
         "43.24211175",
         "-75.2565195",
         "16 Stone Brewpub",
         "3158658500",
         "13354",
         "New York",
         "New York",
         "9542 Main St",
         "http://www.16stonebrewpub.com",
         "22/01/2025 11:39:55"
        ],
        [
         "1716 Topeka St",
         "micro",
         "Norman",
         "United States",
         "5128df48-79fc-4f0f-8b52-d06be54d0cec",
         "35.25738891",
         "-97.46818222",
         "(405) Brewing Co",
         "4058160490",
         "73069-8224",
         "Oklahoma",
         "Oklahoma",
         "1716 Topeka St",
         "http://www.405brewing.com",
         "22/01/2025 11:39:55"
        ],
        [
         "5725 Miller Ave",
         "micro",
         "Gary",
         "United States",
         "b51f3cdf-60ff-4ae1-94a7-76906c7d62eb",
         "41.59928343",
         "-87.26887786",
         "18th Street Brewery",
         null,
         "46403-2871",
         "Indiana",
         "Indiana",
         "5725 Miller Ave",
         "http://www.18thstreetbrewery.com",
         "22/01/2025 11:39:55"
        ],
        [
         "1129 Irvin Garrish Hwy",
         "brewpub",
         "Ocracoke",
         "United States",
         "f41a0c47-ba9b-4547-bfed-fcbefe0fc74b",
         "35.10715368",
         "-75.97176063",
         "1718 Ocracoke Brewing",
         "2529282337",
         "27960",
         "North Carolina",
         "North Carolina",
         "1129 Irvin Garrish Hwy",
         "http://www.ocracokebrewing.com",
         "22/01/2025 11:39:55"
        ],
        [
         null,
         "micro",
         "Mesa",
         "United States",
         "0faa0fb2-fffa-416d-9eab-46f67477c8ef",
         "33.436188",
         "-111.5860662",
         "12 West Brewing Company - Production Facility",
         null,
         "85207",
         "Arizona",
         "Arizona",
         null,
         null,
         "22/01/2025 11:39:55"
        ],
        [
         "753 Reading Rd",
         "brewpub",
         "Mason",
         "United States",
         "85192a9c-58a4-48c3-bd9d-496d09d22aa3",
         "39.3545967",
         "-84.3183801",
         "16 Lots Brewing",
         "5134863672",
         "45040-1303",
         "Ohio",
         "Ohio",
         "753 Reading Rd",
         "http://www.16lots.com",
         "22/01/2025 11:39:55"
        ],
        [
         "407 Radam Ln Ste F200",
         "micro",
         "Austin",
         "United States",
         "9c5a66c8-cc13-416f-a5d9-0a769c87d318",
         null,
         null,
         "(512) Brewing Co",
         "5129211545",
         "78745-1197",
         "Texas",
         "Texas",
         "407 Radam Ln Ste F200",
         "http://www.512brewing.com",
         "22/01/2025 11:39:55"
        ],
        [
         "3090 Shirley Dr",
         "micro",
         "Jackson",
         "United States",
         "d5cb896d-3e99-4e19-9693-5e06ce987e53",
         "42.28667212",
         "-84.43116792",
         "127 Brewing",
         "5172581346",
         "49201-7010",
         "Michigan",
         "Michigan",
         "3090 Shirley Dr",
         null,
         "22/01/2025 11:39:55"
        ],
        [
         "820 Main St",
         "brewpub",
         "Louisville",
         "United States",
         "06e9fffb-e820-45c9-b107-b52b51013e8f",
         "39.9782443",
         "-105.1319826",
         "12Degree Brewing",
         "3035791004",
         "80027-1865",
         "Colorado",
         "Colorado",
         "820 Main St",
         "http://www.12degree.com",
         "22/01/2025 11:39:55"
        ],
        [
         null,
         "micro",
         "Mariposa",
         "United States",
         "fe6b9893-b93e-43d5-a9f6-3e0c89a3f13c",
         "37.570148",
         "-119.9036592",
         "1850 Brewing Company",
         null,
         "95338",
         "California",
         "California",
         null,
         "http://www.1850restaurant.com",
         "22/01/2025 11:39:55"
        ],
        [
         "8100 Washington Ave",
         "micro",
         "Mount Pleasant",
         "United States",
         "34e8c68b-6146-453f-a4b9-1f6cd99a5ada",
         "42.72010826899558",
         "-87.88336350209435",
         "1 of Us Brewing Company",
         "2624847553",
         "53406-3920",
         "Wisconsin",
         "Wisconsin",
         "8100 Washington Ave",
         "https://www.1ofusbrewing.com",
         "22/01/2025 11:39:55"
        ],
        [
         "400 Brown Cir",
         "micro",
         "Knox",
         "United States",
         "7531dbd8-afc9-4b5b-95bc-7ece7f2c0bf3",
         "41.289715",
         "-86.627954",
         "10-56 Brewing Company",
         "6308165790",
         "46534",
         "Indiana",
         "Indiana",
         "400 Brown Cir",
         null,
         "22/01/2025 11:39:55"
        ],
        [
         "1043 Park St",
         "micro",
         "Castle Rock",
         "United States",
         "4ffda196-dd59-44a5-9eeb-5f7fd4b58f5a",
         "39.38269495",
         "-104.8667206",
         "105 West Brewing Co",
         "3033257321",
         "80109-1585",
         "Colorado",
         "Colorado",
         "1043 Park St",
         "http://www.105westbrewing.com",
         "22/01/2025 11:39:55"
        ],
        [
         "1301 S Chestnut St",
         "micro",
         "Assumption",
         "United States",
         "dbde8235-2b55-4d8b-8b1c-438155abe104",
         "39.5172564",
         "-89.0503635",
         "1905 Brewing Company",
         "2172549374",
         "62510-8504",
         "Illinois",
         "Illinois",
         "1301 S Chestnut St",
         "http://1905BrewingCompany.com",
         "22/01/2025 11:39:55"
        ],
        [
         "62970 18th St",
         "large",
         "Bend",
         "United States",
         "6d14b220-8926-4521-8d19-b98a2d6ec3db",
         "44.08683531",
         "-121.281706",
         "10 Barrel Brewing Co",
         "5415851007",
         "97701-9847",
         "Oregon",
         "Oregon",
         "62970 18th St",
         "http://www.10barrel.com",
         "22/01/2025 11:39:55"
        ],
        [
         "342 E Ward St",
         "micro",
         "Milwaukee",
         "United States",
         "1a1b2165-73ed-40aa-b89b-56794d140f22",
         "43.00436242",
         "-87.90606942",
         "1840 Brewing Company",
         "4142364056",
         "53207-1348",
         "Wisconsin",
         "Wisconsin",
         "342 E Ward St",
         "http://www.1840brewing.com",
         "22/01/2025 11:39:55"
        ],
        [
         "2005 2nd Ave",
         "micro",
         "Anoka",
         "United States",
         "42aa37d5-8384-4ffe-8c81-7c982eff0384",
         "45.19812039",
         "-93.38952559",
         "10K Brewing",
         "7633924753",
         "55303-2243",
         "Minnesota",
         "Minnesota",
         "2005 2nd Ave",
         "http://10KBrew.com",
         "22/01/2025 11:39:55"
        ],
        [
         "11109 Plank Rd",
         "micro",
         "Spotsylvania",
         "United States",
         "84d621c4-81a5-44e6-aca7-1566c2e67cc0",
         null,
         null,
         "1781 Brewing Company",
         "5408412598",
         "22553-4258",
         "Virginia",
         "Virginia",
         "11109 Plank Rd",
         null,
         "22/01/2025 11:39:55"
        ],
        [
         "3000 E Ray Rd Bldg 6",
         "micro",
         "Gilbert",
         "United States",
         "fb94830f-6196-4f59-9189-c9060b778085",
         null,
         null,
         "12 West Brewing Company",
         "6023395014",
         "85296-7832",
         "Arizona",
         "Arizona",
         "3000 E Ray Rd Bldg 6",
         "http://www.12westbrewing.com",
         "22/01/2025 11:39:55"
        ],
        [
         "1501 E St",
         "large",
         "San Diego",
         "United States",
         "ef970757-fe42-416f-931d-722451f1f59c",
         "32.714813",
         "-117.129593",
         "10 Barrel Brewing Co",
         "6195782311",
         "92101-6618",
         "California",
         "California",
         "1501 E St",
         "http://10barrel.com",
         "22/01/2025 11:39:55"
        ],
        [
         "2801 Walnut St",
         "proprietor",
         "Denver",
         "United States",
         "4b677b60-fef1-42e2-90ef-dadc1bd7fb06",
         "39.7614112",
         "-104.9839636",
         "14er Brewing Company",
         "7207731437",
         "80205-2235",
         "Colorado",
         "Colorado",
         "2801 Walnut St",
         "http://www.14erBrewing.com",
         "22/01/2025 11:39:55"
        ],
        [
         "250 Mill St, Suite PW3101",
         "brewpub",
         "Taylors",
         "United States",
         "45119c56-345b-4adc-b481-c5cf7bfe98c4",
         null,
         null,
         "13 Stripes Brewery",
         "8643491430",
         "29687",
         "South Carolina",
         "South Carolina",
         "250 Mill St, Suite PW3101",
         "http://www.13StripesBrewery.com",
         "22/01/2025 11:39:55"
        ],
        [
         "6410 SE Milwaukie Ave",
         "brewpub",
         "Portland",
         "United States",
         "936c3d7e-5d54-4459-b72c-117cdda059b4",
         "45.4762536",
         "-122.6487531",
         "13 Virtues Brewing Co",
         "5032393831",
         "97202-5518",
         "Oregon",
         "Oregon",
         "6410 SE Milwaukie Ave",
         "http://www.13virtuesbrewing.com",
         "22/01/2025 11:39:55"
        ],
        [
         "141 E Main St",
         "brewpub",
         "John Day",
         "United States",
         "58293321-14ae-49d7-9a7b-08436c9e63a6",
         "44.4146563",
         "-118.9218754",
         "1188 Brewing Co",
         "5415751188",
         "97845-1210",
         "Oregon",
         "Oregon",
         "141 E Main St",
         "http://www.1188brewing.com",
         "22/01/2025 11:39:55"
        ],
        [
         "490 Mill St",
         "micro",
         "Reno",
         "United States",
         "1ecc330f-6275-42a5-b14e-00adbed62752",
         "39.5171702",
         "-119.7732015",
         "10 Torr Distilling and Brewing",
         "7755307014",
         "89502",
         "Nevada",
         "Nevada",
         "490 Mill St",
         "http://www.10torr.com",
         "22/01/2025 11:39:55"
        ],
        [
         "826 W Bannock St",
         "large",
         "Boise",
         "United States",
         "ea4f30c0-bce6-416b-8904-fab4055a7362",
         "43.618516",
         "-116.202929",
         "10 Barrel Brewing Co - Boise",
         "2083445870",
         "83702-5857",
         "Idaho",
         "Idaho",
         "826 W Bannock St",
         "http://www.10barrel.com",
         "22/01/2025 11:39:55"
        ],
        [
         "Unnamed Street",
         "micro",
         "Killeshin",
         "Ireland",
         "e5f3e72a-fee2-4813-82cf-f2e53b439ae6",
         "52.84930763",
         "-6.979343891",
         "12 Acres Brewing Company",
         "353599107299",
         "R93 X3X8",
         "Laois",
         "Laois",
         "Unnamed Street",
         "https://12acresbrewing.ie/",
         "22/01/2025 11:39:55"
        ],
        [
         "2010 A State Ave",
         "micro",
         "Coraopolis",
         "United States",
         "896f26a1-d80e-4790-9287-026a86c1799d",
         "40.50984957",
         "-80.15020356",
         "180 and Tapped",
         "4127375273",
         "15108",
         "Pennsylvania",
         "Pennsylvania",
         "2010 A State Ave",
         "http://www.180andtapped.com",
         "22/01/2025 11:39:55"
        ],
        [
         "1304 Scott St Ste D",
         "closed",
         "Petaluma",
         "United States",
         "5ae467af-66dc-4d7f-8839-44228f89b596",
         "38.27029381",
         "-122.665055",
         "101 North Brewing Company",
         "7077534934",
         "94954-7100",
         "California",
         "California",
         "1304 Scott St Ste D",
         "http://www.101northbeer.com",
         "22/01/2025 11:39:55"
        ],
        [
         "2416 Meridian St",
         "closed",
         "Bellingham",
         "United States",
         "e54c2f02-acd6-4172-861d-fcfa54c8701a",
         "48.7621709",
         "-122.485982",
         "122 West Brewing Co",
         "3603063285",
         "98225-2405",
         "Washington",
         "Washington",
         "2416 Meridian St",
         "https://www.122westbrew.com/",
         "22/01/2025 11:39:55"
        ],
        [
         null,
         "micro",
         "Crosslake",
         "United States",
         "b7b68d22-5045-4501-b9bf-ec94946eaffc",
         null,
         null,
         "14 Lakes Brewery",
         "2186924129",
         "56442",
         "Minnesota",
         "Minnesota",
         null,
         null,
         "22/01/2025 11:39:55"
        ],
        [
         "7324 NE 175th St",
         "micro",
         "Kenmore",
         "United States",
         "4ccad9b9-f9cf-4d21-b6d5-ab005ee1532d",
         "47.75670075",
         "-122.2415652",
         "192 Brewing",
         "4254242337",
         "98028-2500",
         "Washington",
         "Washington",
         "7324 NE 175th St",
         "http://www.192brewing.com",
         "22/01/2025 11:39:55"
        ],
        [
         "2045 N Forbes Blvd Ste 105",
         "micro",
         "Tucson",
         "United States",
         "4f4b5b34-d572-4dff-a18f-47e507c073e6",
         "32.24673727",
         "-110.9927505",
         "1912 Brewing",
         "5202564851",
         "85745-1444",
         "Arizona",
         "Arizona",
         "2045 N Forbes Blvd Ste 105",
         "http://www.1912brewing.com",
         "22/01/2025 11:39:55"
        ],
        [
         "80 Earhart Dr Ste 20",
         "brewpub",
         "Williamsville",
         "United States",
         "d81ff708-b5d2-478f-af6a-6d40f5beb9ac",
         null,
         null,
         "12 Gates Brewing Company",
         "7169066600",
         "14221-7804",
         "New York",
         "New York",
         "80 Earhart Dr Ste 20",
         "http://www.12gatesbrewing.com",
         "22/01/2025 11:39:55"
        ],
        [
         "133 N Main St Ste 7",
         "micro",
         "Saint Albans",
         "United States",
         "6c53984f-fac1-4ea7-9c44-44e25897c71a",
         null,
         null,
         "14th Star Brewing",
         "8025285988",
         "05478-1735",
         "Vermont",
         "Vermont",
         "133 N Main St Ste 7",
         "http://www.14thstarbrewing.com",
         "22/01/2025 11:39:55"
        ],
        [
         "1135 NW Galveston Ave Ste B",
         "large",
         "Bend",
         "United States",
         "e2e78bd8-80ff-4a61-a65c-3bfbd9d76ce2",
         "44.0575649",
         "-121.3288021",
         "10 Barrel Brewing Co",
         "5415851007",
         "97703-2465",
         "Oregon",
         "Oregon",
         "1135 NW Galveston Ave Ste B",
         null,
         "22/01/2025 11:39:55"
        ],
        [
         "491 Washington St",
         "micro",
         "Abington",
         "United States",
         "232e8f62-9afc-45f5-b4bc-582c26b5c43b",
         "42.10591754",
         "-70.94594149",
         "10th District Brewing Company",
         "7813071554",
         "02351-2419",
         "Massachusetts",
         "Massachusetts",
         "491 Washington St",
         "http://www.10thdistrictbrewing.com",
         "22/01/2025 11:39:55"
        ],
        [
         "5417 Oakley Ave",
         "micro",
         "Hammond",
         "United States",
         "add7f978-942e-4d56-b209-c80837a51d69",
         "41.61556796",
         "-87.517422",
         "18th Street Brewery",
         null,
         "46320-1817",
         "Indiana",
         "Indiana",
         "5417 Oakley Ave",
         null,
         "22/01/2025 11:39:55"
        ],
        [
         "1323 Capital Blvd 1323 R and D",
         "micro",
         "Raleigh",
         "United States",
         "5c53b314-ebab-4e3e-89be-e4139d9318ae",
         null,
         null,
         "1323 R & D",
         "9199775654",
         "27603-1117",
         "North Carolina",
         "North Carolina",
         "1323 Capital Blvd 1323 R and D",
         "http://www.1323rnd.com",
         "22/01/2025 11:39:55"
        ],
        [
         "2620 Walnut St",
         "large",
         "Denver",
         "United States",
         "1988eb86-f0a2-4674-ba04-02454efa0d31",
         "39.7592508",
         "-104.9853655",
         "10 Barrel Brewing Co - Denver",
         "7205738992",
         "80205-2231",
         "Colorado",
         "Colorado",
         "2620 Walnut St",
         null,
         "22/01/2025 11:39:55"
        ],
        [
         "6820 Bourgeois Rd",
         "micro",
         "Houston",
         "United States",
         "08f78223-24f8-4b71-b381-ea19a5bd82df",
         "29.9515464",
         "-95.5186591",
         "11 Below Brewing Company",
         "2814442337",
         "77066-3107",
         "Texas",
         "Texas",
         "6820 Bourgeois Rd",
         "http://www.11belowbrewing.com",
         "22/01/2025 11:39:55"
        ],
        [
         "7391 Forbes Rd",
         "micro",
         "Cincinnati",
         "United States",
         "950180bd-29c9-46b3-ad0c-e6f09799ec7f",
         "39.12639764",
         "-84.70634815",
         "13 Below Brewery",
         "5139750613",
         "45233-1013",
         "Ohio",
         "Ohio",
         "7391 Forbes Rd",
         "http://www.13belowbrewery.com",
         "22/01/2025 11:39:55"
        ],
        [
         "413 S Bedford St",
         "micro",
         "Georgetown",
         "United States",
         "284b44f8-6ccb-4cd6-8d06-f2ad882a47c3",
         "38.6788938",
         "-75.37816436",
         "16 Mile Brewing Co",
         "3022538816",
         "19947-1849",
         "Delaware",
         "Delaware",
         "413 S Bedford St",
         "http://www.16milebrewery.com",
         "22/01/2025 11:39:55"
        ],
        [
         "1411 NW Flanders St",
         "large",
         "Portland",
         "United States",
         "e432899b-7f58-455f-9c7b-9a6e2130a1e0",
         "45.5259786",
         "-122.6855056",
         "10 Barrel Brewing Co",
         "5032241700",
         "97209-2620",
         "Oregon",
         "Oregon",
         "1411 NW Flanders St",
         "http://www.10barrel.com",
         "22/01/2025 11:39:55"
        ],
        [
         "31125 Via Colinas Ste 907",
         "micro",
         "Westlake Village",
         "United States",
         "4788221a-a03b-458c-9084-4cadd69ade6d",
         "34.15334",
         "-118.802397",
         "14 Cannons Brewing Company",
         "8186996165",
         "91362-3974",
         "California",
         "California",
         "31125 Via Colinas Ste 907",
         "http://14cannons.com",
         "22/01/2025 11:39:55"
        ],
        [
         "1146 colonel Joshua Ct",
         "contract",
         "Westminister",
         "United States",
         "d35b40b0-a3ff-4878-a6ee-9caa2149b521",
         null,
         null,
         "1623 Brewing CO, llc",
         null,
         "21157",
         "Maryland",
         "Maryland",
         "1146 colonel Joshua Ct",
         null,
         "22/01/2025 11:39:55"
        ],
        [
         "141 E 4th St Ste LL2",
         "micro",
         "Saint Paul",
         "United States",
         "50521ef7-f543-4c5d-98b1-0d0ee1a2be01",
         null,
         null,
         "12welve Eyes Brewing",
         "6514938106",
         "55101-1639",
         "Minnesota",
         "Minnesota",
         "141 E 4th St Ste LL2",
         "http://www.12welveEyes.com",
         "22/01/2025 11:39:55"
        ]
       ],
       "datasetInfos": [],
       "dbfsResultPath": null,
       "isJsonSchema": true,
       "metadata": {},
       "overflow": false,
       "plotOptions": {
        "customPlotOptions": {},
        "displayType": "table",
        "pivotAggregation": null,
        "pivotColumns": null,
        "xColumns": null,
        "yColumns": null
       },
       "removedWidgets": [],
       "schema": [
        {
         "metadata": "{}",
         "name": "endereco_1",
         "type": "\"string\""
        },
        {
         "metadata": "{}",
         "name": "tipo_cervejaria",
         "type": "\"string\""
        },
        {
         "metadata": "{}",
         "name": "cidade",
         "type": "\"string\""
        },
        {
         "metadata": "{}",
         "name": "pais",
         "type": "\"string\""
        },
        {
         "metadata": "{}",
         "name": "id",
         "type": "\"string\""
        },
        {
         "metadata": "{}",
         "name": "latitude",
         "type": "\"string\""
        },
        {
         "metadata": "{}",
         "name": "longitude",
         "type": "\"string\""
        },
        {
         "metadata": "{}",
         "name": "nome",
         "type": "\"string\""
        },
        {
         "metadata": "{}",
         "name": "telefone",
         "type": "\"string\""
        },
        {
         "metadata": "{}",
         "name": "codigo_postal",
         "type": "\"string\""
        },
        {
         "metadata": "{}",
         "name": "estado",
         "type": "\"string\""
        },
        {
         "metadata": "{}",
         "name": "estado_provincia",
         "type": "\"string\""
        },
        {
         "metadata": "{}",
         "name": "rua",
         "type": "\"string\""
        },
        {
         "metadata": "{}",
         "name": "url_site",
         "type": "\"string\""
        },
        {
         "metadata": "{}",
         "name": "data_criacao",
         "type": "\"string\""
        }
       ],
       "type": "table"
      }
     },
     "output_type": "display_data"
    }
   ],
   "source": [
    "silver_df = bronze_df.withColumnRenamed(\"address_1\", \"endereco_1\") \\\n",
    "                   .withColumnRenamed(\"brewery_type\", \"tipo_cervejaria\") \\\n",
    "                   .withColumnRenamed(\"city\", \"cidade\") \\\n",
    "                   .withColumnRenamed(\"country\", \"pais\") \\\n",
    "                   .withColumnRenamed(\"id\", \"id\") \\\n",
    "                   .withColumnRenamed(\"latitude\", \"latitude\") \\\n",
    "                   .withColumnRenamed(\"longitude\", \"longitude\") \\\n",
    "                   .withColumnRenamed(\"name\", \"nome\") \\\n",
    "                   .withColumnRenamed(\"phone\", \"telefone\") \\\n",
    "                   .withColumnRenamed(\"postal_code\", \"codigo_postal\") \\\n",
    "                   .withColumnRenamed(\"state\", \"estado\") \\\n",
    "                   .withColumnRenamed(\"state_province\", \"estado_provincia\") \\\n",
    "                   .withColumnRenamed(\"street\", \"rua\") \\\n",
    "                   .withColumnRenamed(\"website_url\", \"url_site\") \\\n",
    "                   .withColumn(\"data_criacao\", date_format(from_utc_timestamp(current_timestamp(), \"America/Sao_Paulo\"), \"dd/MM/yyyy HH:mm:ss\")) #DIA CRIACAO DA SILVER\n",
    "display(silver_df)"
   ]
  },
  {
   "cell_type": "markdown",
   "metadata": {
    "application/vnd.databricks.v1+cell": {
     "cellMetadata": {},
     "inputWidgets": {},
     "nuid": "c1c69c14-6352-40f9-889c-7a6a88a63530",
     "showTitle": false,
     "tableResultSettingsMap": {},
     "title": ""
    }
   },
   "source": [
    "###Trocar o type das colunas"
   ]
  },
  {
   "cell_type": "code",
   "execution_count": 0,
   "metadata": {
    "application/vnd.databricks.v1+cell": {
     "cellMetadata": {
      "byteLimit": 2048000,
      "rowLimit": 10000
     },
     "inputWidgets": {},
     "nuid": "6d4dce81-ba7e-4b8d-8a63-016bd341d807",
     "showTitle": false,
     "tableResultSettingsMap": {},
     "title": ""
    }
   },
   "outputs": [],
   "source": [
    "novo_schema = silver_df.select(\n",
    "    col(\"endereco_1\").cast(StringType()),\n",
    "    col(\"tipo_cervejaria\").cast(StringType()),\n",
    "    col(\"cidade\").cast(StringType()),\n",
    "    col(\"pais\").cast(StringType()),\n",
    "    col(\"id\").cast(StringType()),\n",
    "    col(\"latitude\").cast(DoubleType()),\n",
    "    col(\"longitude\").cast(DoubleType()),\n",
    "    col(\"nome\").cast(StringType()),\n",
    "    col(\"telefone\").cast(StringType()),\n",
    "    col(\"codigo_postal\").cast(StringType()),\n",
    "    col(\"estado\").cast(StringType()),\n",
    "    col(\"estado_provincia\").cast(StringType()),\n",
    "    col(\"rua\").cast(StringType()),\n",
    "    col(\"url_site\").cast(StringType()),\n",
    "    col(\"data_criacao\").cast(StringType())  # Colocando data_criacao por último\n",
    ")"
   ]
  },
  {
   "cell_type": "markdown",
   "metadata": {
    "application/vnd.databricks.v1+cell": {
     "cellMetadata": {},
     "inputWidgets": {},
     "nuid": "158c83d9-bfed-4e51-a4b4-bc654b267b95",
     "showTitle": false,
     "tableResultSettingsMap": {},
     "title": ""
    }
   },
   "source": [
    "##Salvar na camada Silver"
   ]
  },
  {
   "cell_type": "code",
   "execution_count": 0,
   "metadata": {
    "application/vnd.databricks.v1+cell": {
     "cellMetadata": {
      "byteLimit": 2048000,
      "rowLimit": 10000
     },
     "inputWidgets": {},
     "nuid": "4fb803ab-513d-4edb-86c2-a88a121c29e8",
     "showTitle": false,
     "tableResultSettingsMap": {},
     "title": ""
    }
   },
   "outputs": [],
   "source": [
    "novo_schema.write.format(\"delta\").partitionBy(\"cidade\").mode(\"overwrite\").saveAsTable(\"silver_table\")"
   ]
  }
 ],
 "metadata": {
  "application/vnd.databricks.v1+notebook": {
   "computePreferences": null,
   "dashboards": [],
   "environmentMetadata": {
    "base_environment": "",
    "client": "1"
   },
   "language": "python",
   "notebookMetadata": {
    "pythonIndentUnit": 4
   },
   "notebookName": "Silver_PSW",
   "widgets": {}
  }
 },
 "nbformat": 4,
 "nbformat_minor": 0
}
